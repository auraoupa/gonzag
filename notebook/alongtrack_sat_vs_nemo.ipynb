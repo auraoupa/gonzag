{
 "cells": [
  {
   "cell_type": "markdown",
   "metadata": {},
   "source": [
    "# GONZAG example"
   ]
  },
  {
   "cell_type": "markdown",
   "metadata": {},
   "source": [
    "This notebook demonstrates how you can blablabla"
   ]
  },
  {
   "cell_type": "markdown",
   "metadata": {},
   "source": [
    "# Run the script to generate the figures"
   ]
  },
  {
   "cell_type": "markdown",
   "metadata": {},
   "source": [
    "In order to generate the figures you need 1 netCDF file per bulk algorithm tested. Of the form:\n",
    "\n",
    "`STATION_ASF-<ALGO>_1h_<YEAR1>0101_<YEAR2>1231_gridT.nc`\n",
    "\n",
    "\n",
    "Example, in the default setup, for the \"COARE 3.6\" bulk algorithm, the following file is generated:\n",
    "\n",
    "`STATION_ASF-COARE3p6_1h_20180101_20181231_gridT.nc`\n",
    "\n",
    "These files are to be found in the subdirectory `output` of the production directory of `STATION_ASF`, namely:\n",
    "- `${PROD_DIR}/output/` into production script `launch_sasf.sh`\n",
    "- `cprod_dir+'/output/'` into this notebook"
   ]
  },
  {
   "cell_type": "markdown",
   "metadata": {
    "collapsed": true
   },
   "source": [
    "## Start:"
   ]
  },
  {
   "cell_type": "code",
   "execution_count": 8,
   "metadata": {},
   "outputs": [
    {
     "name": "stdout",
     "output_type": "stream",
     "text": [
      "/home/laurent/DEV/climporn/python\n"
     ]
    }
   ],
   "source": [
    "import sys\n",
    "from os import getenv\n",
    "sys.path.append(\"../\")\n",
    "\n",
    "import gonzag as gz\n",
    "from gonzag.config import ldebug\n",
    "\n",
    "\n",
    "GONZAG_DATA_DIR = '/MEDIA/data/GONZAG/conzag_input'\n",
    "CLIMPORN_DIR    = getenv('HOME')+'/DEV/climporn/python' ; print(CLIMPORN_DIR)\n",
    "\n"
   ]
  },
  {
   "cell_type": "code",
   "execution_count": null,
   "metadata": {
    "collapsed": true
   },
   "outputs": [],
   "source": []
  }
 ],
 "metadata": {
  "kernelspec": {
   "display_name": "Python 3",
   "language": "python",
   "name": "python3"
  },
  "language_info": {
   "codemirror_mode": {
    "name": "ipython",
    "version": 3
   },
   "file_extension": ".py",
   "mimetype": "text/x-python",
   "name": "python",
   "nbconvert_exporter": "python",
   "pygments_lexer": "ipython3",
   "version": "3.8.5"
  }
 },
 "nbformat": 4,
 "nbformat_minor": 2
}
