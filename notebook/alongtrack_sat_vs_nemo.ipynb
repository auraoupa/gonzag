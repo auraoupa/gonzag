{
 "cells": [
  {
   "cell_type": "markdown",
   "metadata": {},
   "source": [
    "# GONZAG WestMed example"
   ]
  },
  {
   "cell_type": "markdown",
   "metadata": {},
   "source": [
    "This notebook demonstrates how you can blablabla"
   ]
  },
  {
   "cell_type": "markdown",
   "metadata": {
    "collapsed": true
   },
   "source": [
    "## Loading & initilizations"
   ]
  },
  {
   "cell_type": "code",
   "execution_count": 1,
   "metadata": {},
   "outputs": [],
   "source": [
    "import sys\n",
    "from os import getenv\n",
    "\n",
    "GONZAG_DIR   = getenv('HOME')+'/DEV/gonzag'\n",
    "CLIMPORN_DIR = getenv('HOME')+'/DEV/climporn/python'\n",
    "\n",
    "sys.path.append(GONZAG_DIR)\n",
    "\n",
    "import gonzag as gz\n",
    "from gonzag.config import ldebug\n",
    "\n",
    "GONZAG_DATA_DIR = '/MEDIA/data/GONZAG/gonzag_input'\n",
    "\n",
    "# Satellite input data:\n",
    "file_sat = GONZAG_DATA_DIR+'/SENTINEL3A_20170130-20170303.nc'\n",
    "name_ssh_sat = 'sla_unfiltered'\n",
    "\n",
    "# Model input data:\n",
    "file_mod = GONZAG_DATA_DIR+'/sossheig_box_WestMed_eNATL60-BLBT02_20170201-20170228.nc'\n",
    "name_ssh_mod = 'sossheig'\n",
    "file_lsm_mod = file_mod; name_lsm_mod = '_FillValue' ; # we use _FillValue attribute of \"nams_ssh_mod\" in \"file_mod\"\n",
    "l_griddist = False ; # grid is not strongly distorded\n",
    "\n",
    "\n",
    "\n"
   ]
  },
  {
   "cell_type": "markdown",
   "metadata": {},
   "source": [
    "### Time overlap between model and satellite data ?"
   ]
  },
  {
   "cell_type": "code",
   "execution_count": 3,
   "metadata": {},
   "outputs": [
    {
     "name": "stdout",
     "output_type": "stream",
     "text": [
      " *** Time overlap between model and satellite in UNIX epoch time: it1, it2 1485909000.0 -- 1488324600.0\n",
      "   => UTC: \"Wed Feb  1 00:30:00 2017\" to \"Tue Feb 28 23:30:00 2017\"\n",
      "\n"
     ]
    }
   ],
   "source": [
    "    (it1,it2), (Nts,Ntm) = gz.GetEpochTimeOverlap( file_sat , file_mod )\n",
    "    print(' *** Time overlap between model and satellite in UNIX epoch time: it1, it2', it1,'--',it2)\n",
    "    print('   => UTC: \"'+gz.EpochT2Str(it1)+'\" to \"'+gz.EpochT2Str(it2)+'\"\\n')\n"
   ]
  },
  {
   "cell_type": "markdown",
   "metadata": {},
   "source": [
    "## Create object `ModelGrid` containing all the model (aka _source_) 2D+T domain grid info"
   ]
  },
  {
   "cell_type": "code",
   "execution_count": 4,
   "metadata": {},
   "outputs": [
    {
     "name": "stdout",
     "output_type": "stream",
     "text": [
      "\n",
      " *** what we use to define model land-sea mask:\n",
      "    => \"_FillValue@sossheig\" in \"/MEDIA/data/GONZAG/gonzag_input/sossheig_box_WestMed_eNATL60-BLBT02_20170201-20170228.nc\"\n",
      "\n",
      " *** Skipping computation of angle distortion of the model grid! (\"-D\" option not invoked)...\n",
      "\n",
      " *** About model gridded (source) domain:\n",
      "     * shape =  (796, 868)\n",
      "     * horizontal resolution:  0.016753984549605475  degrees or  1.8615352233066644  km\n",
      "     * Is this a global domain w.r.t longitude:  False\n",
      "       ==> this is a regional domain\n",
      "       ==> working in the [-180:180] frame...\n",
      "     * lon_min, lon_max =  -5.5 9.53\n",
      "     * lat_min, lat_max =  34.91 45.1\n",
      "     * should we pay attention to possible STRONG local distorsion in the grid:  False\n",
      "     * number of time records of interest for the interpolation to come:  672\n",
      "       ==> time record indices: 0 to 671, included\n",
      "\n"
     ]
    }
   ],
   "source": [
    "    clsm = name_lsm_mod\n",
    "    if name_lsm_mod=='_FillValue': clsm = name_lsm_mod+'@'+name_ssh_mod\n",
    "    \n",
    "    ModelGrid = gz.ModGrid( file_mod, it1, it2, file_lsm_mod, clsm, distorded_grid=l_griddist )\n"
   ]
  },
  {
   "cell_type": "markdown",
   "metadata": {},
   "source": [
    "## Create object `SatelliteTrack` containing all the satellite track (aka _target_) info"
   ]
  },
  {
   "cell_type": "code",
   "execution_count": 5,
   "metadata": {},
   "outputs": [
    {
     "name": "stdout",
     "output_type": "stream",
     "text": [
      " *** [SatTrack()] Analyzing the time vector in /MEDIA/data/GONZAG/gonzag_input/SENTINEL3A_20170130-20170303.nc ...\n",
      "\n",
      " *** About satellite track (target) domain:\n",
      "     * number of time records of interest for the interpolation to come:  2452\n",
      "       ==> time record indices: 95570 to 1410931, included\n",
      "\n"
     ]
    }
   ],
   "source": [
    "SatelliteTrack = gz.SatTrack( file_sat, it1, it2, Np=Nts, \\\n",
    "                              domain_bounds=ModelGrid.domain_bounds, l_0_360=ModelGrid.l360 )"
   ]
  },
  {
   "cell_type": "markdown",
   "metadata": {},
   "source": [
    "## Build the bilinear mapping & Perform the space-time interpolation"
   ]
  },
  {
   "cell_type": "code",
   "execution_count": 6,
   "metadata": {
    "scrolled": true
   },
   "outputs": [
    {
     "name": "stdout",
     "output_type": "stream",
     "text": [
      " *** \"found\" distance criterion when searching for nearest point on model grid is  1.3961514174799983  km\n",
      "\n",
      " *** Will use zoom boxes of width of 269 points for 1st attempts of nearest-point location...\n",
      "\n",
      "\n",
      " *** Finding nearest points on source (model) grid... (rd_found_km, np_box_r = 1.3961514174799983 134 )\n",
      "      +++ Treated point: 122/2452 \n",
      "          ==> Sat. coordinates:     38.617 4.061\n",
      "      +++ Treated point: 244/2452 \n",
      "          ==> Sat. coordinates:     40.024 2.34\n",
      "      +++ Treated point: 366/2452 \n",
      "          ==> Sat. coordinates:     41.67 9.441\n",
      "      +++ Treated point: 488/2452 \n",
      "          ==> Sat. coordinates:     41.581 4.013\n",
      "      +++ Treated point: 610/2452 \n",
      "          ==> Sat. coordinates:     41.09 3.632\n",
      "      +++ Treated point: 732/2452 \n",
      "          ==> Sat. coordinates:     44.556 -2.66\n",
      "      +++ Treated point: 854/2452 \n",
      "          ==> Sat. coordinates:     42.902 4.487\n",
      "      +++ Treated point: 976/2452 \n",
      "          ==> Sat. coordinates:     37.422 3.375\n",
      "      +++ Treated point: 1098/2452 \n",
      "          ==> Sat. coordinates:     39.216 6.673\n",
      "      +++ Treated point: 1220/2452 \n",
      "          ==> Sat. coordinates:     42.458 5.975\n",
      "      +++ Treated point: 1342/2452 \n",
      "          ==> Sat. coordinates:     39.344 1.021\n",
      "      +++ Treated point: 1464/2452 \n",
      "          ==> Sat. coordinates:     36.784 -1.498\n",
      "      +++ Treated point: 1586/2452 \n",
      "          ==> Sat. coordinates:     38.203 5.491\n",
      "      +++ Treated point: 1708/2452 \n",
      "          ==> Sat. coordinates:     40.533 8.109\n",
      "      +++ Treated point: 1830/2452 \n",
      "          ==> Sat. coordinates:     36.617 -0.614\n",
      "      +++ Treated point: 1952/2452 \n",
      "          ==> Sat. coordinates:     40.194 7.072\n",
      "      +++ Treated point: 2074/2452 \n",
      "          ==> Sat. coordinates:     41.636 8.67\n",
      "      +++ Treated point: 2196/2452 \n",
      "          ==> Sat. coordinates:     37.498 0.593\n",
      "      +++ Treated point: 2318/2452 \n",
      "          ==> Sat. coordinates:     40.141 7.989\n",
      "      +++ Treated point: 2440/2452 \n",
      "          ==> Sat. coordinates:     41.012 3.272\n",
      "     ***    Done! *** \n",
      "\n",
      "  *** Determining source meshes...\n",
      "     ***    Done! *** \n",
      "\n",
      "  *** Computing bilinear weights...\n"
     ]
    },
    {
     "name": "stderr",
     "output_type": "stream",
     "text": [
      "/home/laurent/DEV/gonzag/gonzag/bilin_mapping.py:108: RuntimeWarning: invalid value encountered in double_scalars\n",
      "  zdalp = nmp.linalg.det( zM ) / zdeta\n",
      "/home/laurent/DEV/gonzag/gonzag/bilin_mapping.py:111: RuntimeWarning: invalid value encountered in double_scalars\n",
      "  zdbet = nmp.linalg.det( zM ) / zdeta\n"
     ]
    },
    {
     "name": "stdout",
     "output_type": "stream",
     "text": [
      "     ***    Done! *** \n",
      "\n",
      "\n",
      " *** Starting space-time interpolation of model data onto the 2452 selected track points...\n",
      "      jt = 00000 => satelite time = Wed Feb  1 09:56:04 2017\n",
      "      jt = 00122 => satelite time = Wed Feb  1 21:16:00 2017\n",
      "      jt = 00244 => satelite time = Sat Feb  4 10:19:42 2017\n",
      "      jt = 00366 => satelite time = Sun Feb  5 09:53:03 2017\n",
      "      jt = 00488 => satelite time = Sun Feb  5 21:13:07 2017\n",
      "      jt = 00610 => satelite time = Wed Feb  8 10:15:40 2017\n",
      "      jt = 00732 => satelite time = Wed Feb  8 21:36:24 2017\n",
      "      jt = 00854 => satelite time = Thu Feb  9 21:09:45 2017\n",
      "      jt = 00976 => satelite time = Sun Feb 12 10:12:58 2017\n",
      "      jt = 01098 => satelite time = Mon Feb 13 21:04:57 2017\n",
      "      jt = 01220 => satelite time = Thu Feb 16 10:07:47 2017\n",
      "      jt = 01342 => satelite time = Thu Feb 16 21:27:30 2017\n",
      "      jt = 01464 => satelite time = Sun Feb 19 10:31:50 2017\n",
      "      jt = 01586 => satelite time = Mon Feb 20 10:05:15 2017\n",
      "      jt = 01708 => satelite time = Tue Feb 21 20:57:50 2017\n",
      "      jt = 01830 => satelite time = Thu Feb 23 10:28:08 2017\n",
      "      jt = 01952 => satelite time = Fri Feb 24 10:00:56 2017\n",
      "      jt = 02074 => satelite time = Sat Feb 25 20:54:24 2017\n",
      "      jt = 02196 => satelite time = Mon Feb 27 10:24:09 2017\n",
      "      jt = 02318 => satelite time = Tue Feb 28 09:57:13 2017\n",
      "      jt = 02440 => satelite time = Tue Feb 28 21:16:40 2017\n",
      " *** Space-time interpolation done!\n",
      "\n",
      "\n",
      " *** Time report:\n",
      "     - Construction of the source-target bilinear mapping took: 36.0 s\n",
      "     - Interpolation of model data on the 2452 satellite points took: 11.0 s \n",
      "\n"
     ]
    }
   ],
   "source": [
    "Solution = gz.Model2SatTrack( ModelGrid, name_ssh_mod, SatelliteTrack, name_ssh_sat )"
   ]
  },
  {
   "cell_type": "markdown",
   "metadata": {},
   "source": [
    "### Object `Solution` contains everything you need to start the plots and the science... To be continued soon!"
   ]
  },
  {
   "cell_type": "code",
   "execution_count": null,
   "metadata": {},
   "outputs": [],
   "source": []
  }
 ],
 "metadata": {
  "kernelspec": {
   "display_name": "Python 3",
   "language": "python",
   "name": "python3"
  },
  "language_info": {
   "codemirror_mode": {
    "name": "ipython",
    "version": 3
   },
   "file_extension": ".py",
   "mimetype": "text/x-python",
   "name": "python",
   "nbconvert_exporter": "python",
   "pygments_lexer": "ipython3",
   "version": "3.8.5"
  }
 },
 "nbformat": 4,
 "nbformat_minor": 2
}
